{
 "cells": [
  {
   "cell_type": "markdown",
   "id": "86fbc2ec",
   "metadata": {},
   "source": [
    "## 1) Create a Displayboard"
   ]
  },
  {
   "cell_type": "code",
   "execution_count": 1,
   "id": "8c960912",
   "metadata": {},
   "outputs": [],
   "source": [
    "from IPython.display import clear_output\n",
    "\n",
    "def display(test_board):\n",
    "    clear_output()\n",
    "    \n",
    "    print(test_board[7] + \"|\" + test_board[8] + \"|\" + test_board[9])\n",
    "    print(test_board[4] + \"|\" + test_board[5] + \"|\" + test_board[6])\n",
    "    print(test_board[1] + \"|\" + test_board[2] + \"|\" + test_board[3])"
   ]
  },
  {
   "cell_type": "markdown",
   "id": "4b065c7e",
   "metadata": {},
   "source": [
    "## 2) Input from user a \"O\" or \"X\""
   ]
  },
  {
   "cell_type": "code",
   "execution_count": 2,
   "id": "f2b2468d",
   "metadata": {},
   "outputs": [],
   "source": [
    "def player_input():\n",
    "    marker = ''\n",
    "    while not (marker == \"O\" or marker == \"X\"):\n",
    "        marker = input(\"Player 1: Do u want to be X or O: \").upper()\n",
    "        \n",
    "    if(marker == 'X'):\n",
    "        return (\"X\", \"O\")\n",
    "    else:\n",
    "        return (\"O\", \"X\")"
   ]
  },
  {
   "cell_type": "code",
   "execution_count": 3,
   "id": "193d40eb",
   "metadata": {},
   "outputs": [
    {
     "name": "stdout",
     "output_type": "stream",
     "text": [
      "Player 1: Do u want to be X or O: X\n",
      "X\n",
      "O\n"
     ]
    }
   ],
   "source": [
    "player1_marker, player2_marker = (player_input())\n",
    "print(player1_marker)\n",
    "print(player2_marker)"
   ]
  },
  {
   "cell_type": "markdown",
   "id": "c085de19",
   "metadata": {},
   "source": [
    "## 3) Fill the user value on board"
   ]
  },
  {
   "cell_type": "code",
   "execution_count": 4,
   "id": "3f1255da",
   "metadata": {},
   "outputs": [],
   "source": [
    "def place_marker(board, element, position):\n",
    "    board[position] = element"
   ]
  },
  {
   "cell_type": "code",
   "execution_count": 5,
   "id": "5ae59f36",
   "metadata": {},
   "outputs": [],
   "source": [
    "test_board = [\"Z\",\"A\",\"B\",\"C\",\"D\",\"E\",\"F\",\"7\",\"8\",\"9\"]"
   ]
  },
  {
   "cell_type": "code",
   "execution_count": 6,
   "id": "373ef24a",
   "metadata": {},
   "outputs": [
    {
     "name": "stdout",
     "output_type": "stream",
     "text": [
      "7|8|9\n",
      "D|X|F\n",
      "A|B|C\n"
     ]
    }
   ],
   "source": [
    "place_marker(test_board, \"X\", 5)\n",
    "display(test_board)"
   ]
  },
  {
   "cell_type": "markdown",
   "id": "36098961",
   "metadata": {},
   "source": [
    "## 4) Check if user has won"
   ]
  },
  {
   "cell_type": "code",
   "execution_count": 7,
   "id": "7afdcc31",
   "metadata": {},
   "outputs": [],
   "source": [
    "def win_check(board, mark):\n",
    "    return((board[9] == mark and board[8] == mark and board[9] == mark)or #Across Top\n",
    "    (board[4] == mark and board[5] == mark and board[6] == mark) or       #ACROSS Mid\n",
    "    (board[1] == mark and board[2] == mark and board[3] == mark) or       #ACROSS Botom\n",
    "    (board[7] == mark and board[4] == mark and board[1] == mark) or       #DOWN left\n",
    "    (board[8] == mark and board[5] == mark and board[2] == mark) or       #DOWN Mid\n",
    "    (board[9] == mark and board[6] == mark and board[3] == mark) or       #DOWN Right\n",
    "    (board[9] == mark and board[5] == mark and board[1] == mark) or       #1st Diagonal\n",
    "    (board[7] == mark and board[5] == mark and board[3] == mark))"
   ]
  },
  {
   "cell_type": "markdown",
   "id": "f780384e",
   "metadata": {},
   "source": [
    "## 5) Check if space is empty"
   ]
  },
  {
   "cell_type": "code",
   "execution_count": 8,
   "id": "64e389f9",
   "metadata": {},
   "outputs": [],
   "source": [
    "def space_check(board, position):\n",
    "    return (board[position]) == \" \""
   ]
  },
  {
   "cell_type": "markdown",
   "id": "95b14a45",
   "metadata": {},
   "source": [
    "## 6) Decide Whose Turn is 1st"
   ]
  },
  {
   "cell_type": "code",
   "execution_count": 9,
   "id": "92c4678b",
   "metadata": {},
   "outputs": [],
   "source": [
    "import random\n",
    "def first_player():\n",
    "    if(random.randint(0,1) == 1):\n",
    "        return (\"Player 2\")\n",
    "    else:\n",
    "        return (\"Player 1\")"
   ]
  },
  {
   "cell_type": "markdown",
   "id": "a6e98b09",
   "metadata": {},
   "source": [
    "## 7) Check if board is full"
   ]
  },
  {
   "cell_type": "code",
   "execution_count": 10,
   "id": "caf6e68e",
   "metadata": {},
   "outputs": [],
   "source": [
    "def isFullBoard(board):\n",
    "    for i in range(1,10):\n",
    "        if space_check(board, i):\n",
    "            return False\n",
    "    return True"
   ]
  },
  {
   "cell_type": "markdown",
   "id": "c36914e8",
   "metadata": {},
   "source": [
    "## 8) If user wants to play it again"
   ]
  },
  {
   "cell_type": "code",
   "execution_count": 11,
   "id": "6bf06a5a",
   "metadata": {},
   "outputs": [],
   "source": [
    "def player_choice(board):\n",
    "    position = 0\n",
    "    while position not in [1,2,3,4,5,6,7,8,9] or not space_check(board, position):\n",
    "        position = int(input(\"Enter the position between 1-9: \"))\n",
    "    return position\n",
    "        "
   ]
  },
  {
   "cell_type": "markdown",
   "id": "1d7b8b8c",
   "metadata": {},
   "source": [
    "## 9) Replay button"
   ]
  },
  {
   "cell_type": "code",
   "execution_count": 12,
   "id": "15f9e10a",
   "metadata": {},
   "outputs": [],
   "source": [
    "def replay():\n",
    "    return input(\"You want to play again(yes or no)\").lower().startswith('y')"
   ]
  },
  {
   "cell_type": "markdown",
   "id": "b691a6d2",
   "metadata": {},
   "source": [
    "# COMPILE AND PLAY"
   ]
  },
  {
   "cell_type": "code",
   "execution_count": null,
   "id": "5f54d335",
   "metadata": {},
   "outputs": [],
   "source": [
    "print(\"Welcome to tictactoe, can we  play a game \")\n",
    "## GAME ON \n",
    "while True:\n",
    "    theBoard = [' ']*10 ## assign empty spaces to each space of baord\n",
    "    player1_marker, player2_marker = player_input() ## assign markers to each player\n",
    "    turn = first_player() ## randomly select each player\n",
    "    print(turn + \" will mark first.\") \n",
    "    \n",
    "    play_game = input(\"Do you want to play Tic Tac Toe (Yes/No): \")\n",
    "     \n",
    "    if play_game.lower()[0] == 'y':\n",
    "        game_on = True\n",
    "    else:\n",
    "        game_on = False\n",
    "        \n",
    "    while(game_on):\n",
    "        if turn == \"Player 1\":\n",
    "                \n",
    "            display(theBoard)\n",
    "            position = player_choice(theBoard)\n",
    "            place_marker(theBoard, player1_marker, position) \n",
    "        \n",
    "            if win_check(theBoard, player1_marker):\n",
    "                display(theBoard)\n",
    "                print(\"Congo Player 1 won the game !!! \")\n",
    "                game_on = False\n",
    "        \n",
    "            else:\n",
    "                if isFullBoard(theBoard):\n",
    "                    display(theBoard)\n",
    "                    print(\"Stalemate \")\n",
    "                    game_on = False\n",
    "                else:\n",
    "                    turn = \"Player 2\"\n",
    "                    \n",
    "        else:\n",
    "            display(theBoard)\n",
    "            position = player_choice(theBoard)\n",
    "            place_marker(theBoard, player2_marker, position) \n",
    "        \n",
    "            if win_check(theBoard, player2_marker):\n",
    "                display(theBoard)\n",
    "                print(\"Congo Player 2 won the game !!! \")\n",
    "                game_on = False\n",
    "        \n",
    "            else:\n",
    "                if isFullBoard(theBoard):\n",
    "                    display(theBoard)\n",
    "                    print(\"Stalemate \")\n",
    "                    game_on = False\n",
    "                else:\n",
    "                    turn = \"Player 1\"     \n",
    "                    \n",
    "        if not replay:\n",
    "                break"
   ]
  },
  {
   "cell_type": "code",
   "execution_count": null,
   "id": "c46e23b0",
   "metadata": {},
   "outputs": [],
   "source": []
  },
  {
   "cell_type": "code",
   "execution_count": null,
   "id": "85797b9f",
   "metadata": {},
   "outputs": [],
   "source": []
  }
 ],
 "metadata": {
  "kernelspec": {
   "display_name": "Python 3 (ipykernel)",
   "language": "python",
   "name": "python3"
  },
  "language_info": {
   "codemirror_mode": {
    "name": "ipython",
    "version": 3
   },
   "file_extension": ".py",
   "mimetype": "text/x-python",
   "name": "python",
   "nbconvert_exporter": "python",
   "pygments_lexer": "ipython3",
   "version": "3.9.5"
  }
 },
 "nbformat": 4,
 "nbformat_minor": 5
}
